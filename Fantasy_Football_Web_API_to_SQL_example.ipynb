{
 "cells": [
  {
   "cell_type": "markdown",
   "metadata": {},
   "source": [
    "# Fantasy Football Web API to SQL example\n",
    "* Example using \"My Fantasy League\" API to pull information about the player score history, and saving as SQLite db\n",
    "* Brock Ricker\n",
    "* Last Edited: 06/27/2022\n"
   ]
  },
  {
   "cell_type": "code",
   "execution_count": 1,
   "metadata": {},
   "outputs": [],
   "source": [
    "#import modules here\n",
    "import pandas as pd\n",
    "import numpy as np\n",
    "import requests\n",
    "import json\n",
    "from sqlalchemy import create_engine\n",
    "import time"
   ]
  },
  {
   "cell_type": "code",
   "execution_count": 2,
   "metadata": {},
   "outputs": [],
   "source": [
    "#Define function for pulling weekly scores from my fantasy API\n",
    "def weekly_score_pull(years):\n",
    "    weekly_scores = pd.DataFrame()\n",
    "    \n",
    "    for year in years:\n",
    "        \n",
    "        if year >= 2020:\n",
    "            weeks = range(1,15)\n",
    "        else:\n",
    "            weeks = range(1,14)\n",
    "        \n",
    "        for week in weeks:\n",
    "            print(f\"parsing scores for week: {week}, year: {year}\")\n",
    "            request_url = f\"https://www54.myfantasyleague.com/{year}/export?L=20896&W={week}&TYPE=weeklyResults&JSON=1\"\n",
    "            req = requests.get(request_url)\n",
    "            req_data = req.json()\n",
    "            print(\"connection results:\",req)\n",
    "            df_nested = pd.json_normalize(req_data[\"weeklyResults\"][\"matchup\"],record_path=[\"franchise\",\"player\"])\n",
    "            df_nested[\"week\"] = week\n",
    "            df_nested[\"year\"] = year\n",
    "            weekly_scores = pd.concat([weekly_scores,df_nested],ignore_index=True)\n",
    "            time.sleep(1)\n",
    "        print(\"sleeping so API doesn't lock me out\")\n",
    "        time.sleep(10)\n",
    "\n",
    "    return weekly_scores"
   ]
  },
  {
   "cell_type": "code",
   "execution_count": 3,
   "metadata": {},
   "outputs": [
    {
     "name": "stdout",
     "output_type": "stream",
     "text": [
      "parsing scores for week: 1, year: 2017\n",
      "connection results: <Response [200]>\n",
      "parsing scores for week: 2, year: 2017\n",
      "connection results: <Response [200]>\n",
      "parsing scores for week: 3, year: 2017\n",
      "connection results: <Response [200]>\n",
      "parsing scores for week: 4, year: 2017\n",
      "connection results: <Response [200]>\n",
      "parsing scores for week: 5, year: 2017\n",
      "connection results: <Response [200]>\n",
      "parsing scores for week: 6, year: 2017\n",
      "connection results: <Response [200]>\n",
      "parsing scores for week: 7, year: 2017\n",
      "connection results: <Response [200]>\n",
      "parsing scores for week: 8, year: 2017\n",
      "connection results: <Response [200]>\n",
      "parsing scores for week: 9, year: 2017\n",
      "connection results: <Response [200]>\n",
      "parsing scores for week: 10, year: 2017\n",
      "connection results: <Response [200]>\n",
      "parsing scores for week: 11, year: 2017\n",
      "connection results: <Response [200]>\n",
      "parsing scores for week: 12, year: 2017\n",
      "connection results: <Response [200]>\n",
      "parsing scores for week: 13, year: 2017\n",
      "connection results: <Response [200]>\n",
      "sleeping so API doesn't lock me out\n",
      "parsing scores for week: 1, year: 2018\n",
      "connection results: <Response [200]>\n",
      "parsing scores for week: 2, year: 2018\n",
      "connection results: <Response [200]>\n",
      "parsing scores for week: 3, year: 2018\n",
      "connection results: <Response [200]>\n",
      "parsing scores for week: 4, year: 2018\n",
      "connection results: <Response [200]>\n",
      "parsing scores for week: 5, year: 2018\n",
      "connection results: <Response [200]>\n",
      "parsing scores for week: 6, year: 2018\n",
      "connection results: <Response [200]>\n",
      "parsing scores for week: 7, year: 2018\n",
      "connection results: <Response [200]>\n",
      "parsing scores for week: 8, year: 2018\n",
      "connection results: <Response [200]>\n",
      "parsing scores for week: 9, year: 2018\n",
      "connection results: <Response [200]>\n",
      "parsing scores for week: 10, year: 2018\n",
      "connection results: <Response [200]>\n",
      "parsing scores for week: 11, year: 2018\n",
      "connection results: <Response [200]>\n",
      "parsing scores for week: 12, year: 2018\n",
      "connection results: <Response [200]>\n",
      "parsing scores for week: 13, year: 2018\n",
      "connection results: <Response [200]>\n",
      "sleeping so API doesn't lock me out\n"
     ]
    }
   ],
   "source": [
    "#pulling scores from 2017/2018 this has to be done in pieces due to the myfantasy donwload restrictions\n",
    "early_scores = weekly_score_pull([2017,2018])"
   ]
  },
  {
   "cell_type": "code",
   "execution_count": 4,
   "metadata": {},
   "outputs": [
    {
     "name": "stdout",
     "output_type": "stream",
     "text": [
      "parsing scores for week: 1, year: 2019\n",
      "connection results: <Response [200]>\n",
      "parsing scores for week: 2, year: 2019\n",
      "connection results: <Response [200]>\n",
      "parsing scores for week: 3, year: 2019\n",
      "connection results: <Response [200]>\n",
      "parsing scores for week: 4, year: 2019\n",
      "connection results: <Response [200]>\n",
      "parsing scores for week: 5, year: 2019\n",
      "connection results: <Response [200]>\n",
      "parsing scores for week: 6, year: 2019\n",
      "connection results: <Response [200]>\n",
      "parsing scores for week: 7, year: 2019\n",
      "connection results: <Response [200]>\n",
      "parsing scores for week: 8, year: 2019\n",
      "connection results: <Response [200]>\n",
      "parsing scores for week: 9, year: 2019\n",
      "connection results: <Response [200]>\n",
      "parsing scores for week: 10, year: 2019\n",
      "connection results: <Response [200]>\n",
      "parsing scores for week: 11, year: 2019\n",
      "connection results: <Response [200]>\n",
      "parsing scores for week: 12, year: 2019\n",
      "connection results: <Response [200]>\n",
      "parsing scores for week: 13, year: 2019\n",
      "connection results: <Response [200]>\n",
      "sleeping so API doesn't lock me out\n",
      "parsing scores for week: 1, year: 2020\n",
      "connection results: <Response [200]>\n",
      "parsing scores for week: 2, year: 2020\n",
      "connection results: <Response [200]>\n",
      "parsing scores for week: 3, year: 2020\n",
      "connection results: <Response [200]>\n",
      "parsing scores for week: 4, year: 2020\n",
      "connection results: <Response [200]>\n",
      "parsing scores for week: 5, year: 2020\n",
      "connection results: <Response [200]>\n",
      "parsing scores for week: 6, year: 2020\n",
      "connection results: <Response [200]>\n",
      "parsing scores for week: 7, year: 2020\n",
      "connection results: <Response [200]>\n",
      "parsing scores for week: 8, year: 2020\n",
      "connection results: <Response [200]>\n",
      "parsing scores for week: 9, year: 2020\n",
      "connection results: <Response [200]>\n",
      "parsing scores for week: 10, year: 2020\n",
      "connection results: <Response [200]>\n",
      "parsing scores for week: 11, year: 2020\n",
      "connection results: <Response [200]>\n",
      "parsing scores for week: 12, year: 2020\n",
      "connection results: <Response [200]>\n",
      "parsing scores for week: 13, year: 2020\n",
      "connection results: <Response [200]>\n",
      "parsing scores for week: 14, year: 2020\n",
      "connection results: <Response [200]>\n",
      "sleeping so API doesn't lock me out\n"
     ]
    }
   ],
   "source": [
    "#pulling scores from 2019/2020\n",
    "late_scores = weekly_score_pull([2019,2020])"
   ]
  },
  {
   "cell_type": "code",
   "execution_count": 5,
   "metadata": {},
   "outputs": [],
   "source": [
    "#combine to one dataframe\n",
    "all_scores = pd.concat([early_scores,late_scores],ignore_index=True)"
   ]
  },
  {
   "cell_type": "code",
   "execution_count": 6,
   "metadata": {},
   "outputs": [],
   "source": [
    "#replacing blank scores with 0\n",
    "all_scores[\"score\"].fillna(0,inplace=True)"
   ]
  },
  {
   "cell_type": "code",
   "execution_count": 7,
   "metadata": {},
   "outputs": [
    {
     "name": "stdout",
     "output_type": "stream",
     "text": [
      "<class 'pandas.core.frame.DataFrame'>\n",
      "RangeIndex: 17137 entries, 0 to 17136\n",
      "Data columns (total 6 columns):\n",
      " #   Column       Non-Null Count  Dtype  \n",
      "---  ------       --------------  -----  \n",
      " 0   shouldStart  17137 non-null  float64\n",
      " 1   status       17137 non-null  object \n",
      " 2   score        17137 non-null  float64\n",
      " 3   id           17137 non-null  float64\n",
      " 4   week         17137 non-null  int64  \n",
      " 5   year         17137 non-null  int64  \n",
      "dtypes: float64(3), int64(2), object(1)\n",
      "memory usage: 803.4+ KB\n"
     ]
    }
   ],
   "source": [
    "#converting datatype to numbers\n",
    "all_scores[[\"shouldStart\",\"score\",\"id\"]] = all_scores[[\"shouldStart\",\"score\",\"id\"]].astype(float)\n",
    "all_scores.info()"
   ]
  },
  {
   "cell_type": "code",
   "execution_count": 8,
   "metadata": {},
   "outputs": [
    {
     "name": "stdout",
     "output_type": "stream",
     "text": [
      "connection results: <Response [200]>\n"
     ]
    }
   ],
   "source": [
    "#importing player list\n",
    "request_url = f\"https://www54.myfantasyleague.com/2022/export?L=20896&TYPE=players&JSON=1&DETAILS=1&SINCE=2017\"\n",
    "req = requests.get(request_url)\n",
    "req_data = req.json()\n",
    "print(\"connection results:\",req)\n",
    "players = pd.json_normalize(req_data[\"players\"],record_path=[\"player\"])"
   ]
  },
  {
   "cell_type": "code",
   "execution_count": 17,
   "metadata": {},
   "outputs": [
    {
     "name": "stdout",
     "output_type": "stream",
     "text": [
      "<class 'pandas.core.frame.DataFrame'>\n",
      "RangeIndex: 931 entries, 0 to 930\n",
      "Data columns (total 24 columns):\n",
      " #   Column            Non-Null Count  Dtype \n",
      "---  ------            --------------  ----- \n",
      " 0   draft_year        931 non-null    object\n",
      " 1   draft_round       649 non-null    object\n",
      " 2   nfl_id            193 non-null    object\n",
      " 3   rotoworld_id      557 non-null    object\n",
      " 4   stats_id          777 non-null    object\n",
      " 5   position          931 non-null    object\n",
      " 6   stats_global_id   931 non-null    object\n",
      " 7   espn_id           274 non-null    object\n",
      " 8   weight            921 non-null    object\n",
      " 9   id                931 non-null    object\n",
      " 10  birthdate         908 non-null    object\n",
      " 11  draft_team        931 non-null    object\n",
      " 12  name              931 non-null    object\n",
      " 13  draft_pick        649 non-null    object\n",
      " 14  college           927 non-null    object\n",
      " 15  height            921 non-null    object\n",
      " 16  rotowire_id       928 non-null    object\n",
      " 17  jersey            659 non-null    object\n",
      " 18  sportsdata_id     918 non-null    object\n",
      " 19  team              931 non-null    object\n",
      " 20  cbs_id            578 non-null    object\n",
      " 21  twitter_username  215 non-null    object\n",
      " 22  fleaflicker_id    45 non-null     object\n",
      " 23  status            274 non-null    object\n",
      "dtypes: object(24)\n",
      "memory usage: 174.7+ KB\n"
     ]
    }
   ],
   "source": [
    "players.info()"
   ]
  },
  {
   "cell_type": "markdown",
   "metadata": {},
   "source": [
    "# SQLite"
   ]
  },
  {
   "cell_type": "code",
   "execution_count": 9,
   "metadata": {},
   "outputs": [],
   "source": [
    "# create sqlite engine for a db called fantasy_league\n",
    "engine = create_engine(\"sqlite:///fantasy_league.db\", echo=True)\n",
    "#create connection to the engine\n",
    "conn = engine.connect()"
   ]
  },
  {
   "cell_type": "code",
   "execution_count": 13,
   "metadata": {},
   "outputs": [
    {
     "name": "stdout",
     "output_type": "stream",
     "text": [
      "2022-06-27 17:28:59,393 INFO sqlalchemy.engine.Engine PRAGMA main.table_info(\"players\")\n",
      "2022-06-27 17:28:59,394 INFO sqlalchemy.engine.Engine [raw sql] ()\n"
     ]
    },
    {
     "ename": "ValueError",
     "evalue": "Table 'players' already exists.",
     "output_type": "error",
     "traceback": [
      "\u001b[1;31m---------------------------------------------------------------------------\u001b[0m",
      "\u001b[1;31mValueError\u001b[0m                                Traceback (most recent call last)",
      "\u001b[1;32mc:\\Python\\Fantasy_Football\\Fantasy Football Draft History example.ipynb Cell 12'\u001b[0m in \u001b[0;36m<cell line: 2>\u001b[1;34m()\u001b[0m\n\u001b[0;32m      <a href='vscode-notebook-cell:/c%3A/Python/Fantasy_Football/Fantasy%20Football%20Draft%20History%20example.ipynb#ch0000012?line=0'>1</a>\u001b[0m \u001b[39m#adding player list to sql db\u001b[39;00m\n\u001b[1;32m----> <a href='vscode-notebook-cell:/c%3A/Python/Fantasy_Football/Fantasy%20Football%20Draft%20History%20example.ipynb#ch0000012?line=1'>2</a>\u001b[0m players\u001b[39m.\u001b[39;49mto_sql(\u001b[39m\"\u001b[39;49m\u001b[39mplayers\u001b[39;49m\u001b[39m\"\u001b[39;49m, conn, if_exists\u001b[39m=\u001b[39;49m\u001b[39m\"\u001b[39;49m\u001b[39mfail\u001b[39;49m\u001b[39m\"\u001b[39;49m)\n",
      "File \u001b[1;32m~\\AppData\\Local\\Packages\\PythonSoftwareFoundation.Python.3.9_qbz5n2kfra8p0\\LocalCache\\local-packages\\Python39\\site-packages\\pandas\\core\\generic.py:2963\u001b[0m, in \u001b[0;36mNDFrame.to_sql\u001b[1;34m(self, name, con, schema, if_exists, index, index_label, chunksize, dtype, method)\u001b[0m\n\u001b[0;32m   2806\u001b[0m \u001b[39m\"\"\"\u001b[39;00m\n\u001b[0;32m   2807\u001b[0m \u001b[39mWrite records stored in a DataFrame to a SQL database.\u001b[39;00m\n\u001b[0;32m   2808\u001b[0m \n\u001b[1;32m   (...)\u001b[0m\n\u001b[0;32m   2959\u001b[0m \u001b[39m[(1,), (None,), (2,)]\u001b[39;00m\n\u001b[0;32m   2960\u001b[0m \u001b[39m\"\"\"\u001b[39;00m  \u001b[39m# noqa:E501\u001b[39;00m\n\u001b[0;32m   2961\u001b[0m \u001b[39mfrom\u001b[39;00m \u001b[39mpandas\u001b[39;00m\u001b[39m.\u001b[39;00m\u001b[39mio\u001b[39;00m \u001b[39mimport\u001b[39;00m sql\n\u001b[1;32m-> 2963\u001b[0m \u001b[39mreturn\u001b[39;00m sql\u001b[39m.\u001b[39;49mto_sql(\n\u001b[0;32m   2964\u001b[0m     \u001b[39mself\u001b[39;49m,\n\u001b[0;32m   2965\u001b[0m     name,\n\u001b[0;32m   2966\u001b[0m     con,\n\u001b[0;32m   2967\u001b[0m     schema\u001b[39m=\u001b[39;49mschema,\n\u001b[0;32m   2968\u001b[0m     if_exists\u001b[39m=\u001b[39;49mif_exists,\n\u001b[0;32m   2969\u001b[0m     index\u001b[39m=\u001b[39;49mindex,\n\u001b[0;32m   2970\u001b[0m     index_label\u001b[39m=\u001b[39;49mindex_label,\n\u001b[0;32m   2971\u001b[0m     chunksize\u001b[39m=\u001b[39;49mchunksize,\n\u001b[0;32m   2972\u001b[0m     dtype\u001b[39m=\u001b[39;49mdtype,\n\u001b[0;32m   2973\u001b[0m     method\u001b[39m=\u001b[39;49mmethod,\n\u001b[0;32m   2974\u001b[0m )\n",
      "File \u001b[1;32m~\\AppData\\Local\\Packages\\PythonSoftwareFoundation.Python.3.9_qbz5n2kfra8p0\\LocalCache\\local-packages\\Python39\\site-packages\\pandas\\io\\sql.py:697\u001b[0m, in \u001b[0;36mto_sql\u001b[1;34m(frame, name, con, schema, if_exists, index, index_label, chunksize, dtype, method, engine, **engine_kwargs)\u001b[0m\n\u001b[0;32m    692\u001b[0m \u001b[39melif\u001b[39;00m \u001b[39mnot\u001b[39;00m \u001b[39misinstance\u001b[39m(frame, DataFrame):\n\u001b[0;32m    693\u001b[0m     \u001b[39mraise\u001b[39;00m \u001b[39mNotImplementedError\u001b[39;00m(\n\u001b[0;32m    694\u001b[0m         \u001b[39m\"\u001b[39m\u001b[39m'\u001b[39m\u001b[39mframe\u001b[39m\u001b[39m'\u001b[39m\u001b[39m argument should be either a Series or a DataFrame\u001b[39m\u001b[39m\"\u001b[39m\n\u001b[0;32m    695\u001b[0m     )\n\u001b[1;32m--> 697\u001b[0m \u001b[39mreturn\u001b[39;00m pandas_sql\u001b[39m.\u001b[39mto_sql(\n\u001b[0;32m    698\u001b[0m     frame,\n\u001b[0;32m    699\u001b[0m     name,\n\u001b[0;32m    700\u001b[0m     if_exists\u001b[39m=\u001b[39mif_exists,\n\u001b[0;32m    701\u001b[0m     index\u001b[39m=\u001b[39mindex,\n\u001b[0;32m    702\u001b[0m     index_label\u001b[39m=\u001b[39mindex_label,\n\u001b[0;32m    703\u001b[0m     schema\u001b[39m=\u001b[39mschema,\n\u001b[0;32m    704\u001b[0m     chunksize\u001b[39m=\u001b[39mchunksize,\n\u001b[0;32m    705\u001b[0m     dtype\u001b[39m=\u001b[39mdtype,\n\u001b[0;32m    706\u001b[0m     method\u001b[39m=\u001b[39mmethod,\n\u001b[0;32m    707\u001b[0m     engine\u001b[39m=\u001b[39mengine,\n\u001b[0;32m    708\u001b[0m     \u001b[39m*\u001b[39m\u001b[39m*\u001b[39mengine_kwargs,\n\u001b[0;32m    709\u001b[0m )\n",
      "File \u001b[1;32m~\\AppData\\Local\\Packages\\PythonSoftwareFoundation.Python.3.9_qbz5n2kfra8p0\\LocalCache\\local-packages\\Python39\\site-packages\\pandas\\io\\sql.py:1729\u001b[0m, in \u001b[0;36mSQLDatabase.to_sql\u001b[1;34m(self, frame, name, if_exists, index, index_label, schema, chunksize, dtype, method, engine, **engine_kwargs)\u001b[0m\n\u001b[0;32m   1679\u001b[0m \u001b[39m\"\"\"\u001b[39;00m\n\u001b[0;32m   1680\u001b[0m \u001b[39mWrite records stored in a DataFrame to a SQL database.\u001b[39;00m\n\u001b[0;32m   1681\u001b[0m \n\u001b[1;32m   (...)\u001b[0m\n\u001b[0;32m   1725\u001b[0m \u001b[39m    Any additional kwargs are passed to the engine.\u001b[39;00m\n\u001b[0;32m   1726\u001b[0m \u001b[39m\"\"\"\u001b[39;00m\n\u001b[0;32m   1727\u001b[0m sql_engine \u001b[39m=\u001b[39m get_engine(engine)\n\u001b[1;32m-> 1729\u001b[0m table \u001b[39m=\u001b[39m \u001b[39mself\u001b[39;49m\u001b[39m.\u001b[39;49mprep_table(\n\u001b[0;32m   1730\u001b[0m     frame\u001b[39m=\u001b[39;49mframe,\n\u001b[0;32m   1731\u001b[0m     name\u001b[39m=\u001b[39;49mname,\n\u001b[0;32m   1732\u001b[0m     if_exists\u001b[39m=\u001b[39;49mif_exists,\n\u001b[0;32m   1733\u001b[0m     index\u001b[39m=\u001b[39;49mindex,\n\u001b[0;32m   1734\u001b[0m     index_label\u001b[39m=\u001b[39;49mindex_label,\n\u001b[0;32m   1735\u001b[0m     schema\u001b[39m=\u001b[39;49mschema,\n\u001b[0;32m   1736\u001b[0m     dtype\u001b[39m=\u001b[39;49mdtype,\n\u001b[0;32m   1737\u001b[0m )\n\u001b[0;32m   1739\u001b[0m total_inserted \u001b[39m=\u001b[39m sql_engine\u001b[39m.\u001b[39minsert_records(\n\u001b[0;32m   1740\u001b[0m     table\u001b[39m=\u001b[39mtable,\n\u001b[0;32m   1741\u001b[0m     con\u001b[39m=\u001b[39m\u001b[39mself\u001b[39m\u001b[39m.\u001b[39mconnectable,\n\u001b[1;32m   (...)\u001b[0m\n\u001b[0;32m   1748\u001b[0m     \u001b[39m*\u001b[39m\u001b[39m*\u001b[39mengine_kwargs,\n\u001b[0;32m   1749\u001b[0m )\n\u001b[0;32m   1751\u001b[0m \u001b[39mself\u001b[39m\u001b[39m.\u001b[39mcheck_case_sensitive(name\u001b[39m=\u001b[39mname, schema\u001b[39m=\u001b[39mschema)\n",
      "File \u001b[1;32m~\\AppData\\Local\\Packages\\PythonSoftwareFoundation.Python.3.9_qbz5n2kfra8p0\\LocalCache\\local-packages\\Python39\\site-packages\\pandas\\io\\sql.py:1628\u001b[0m, in \u001b[0;36mSQLDatabase.prep_table\u001b[1;34m(self, frame, name, if_exists, index, index_label, schema, dtype)\u001b[0m\n\u001b[0;32m   1616\u001b[0m             \u001b[39mraise\u001b[39;00m \u001b[39mValueError\u001b[39;00m(\u001b[39mf\u001b[39m\u001b[39m\"\u001b[39m\u001b[39mThe type of \u001b[39m\u001b[39m{\u001b[39;00mcol\u001b[39m}\u001b[39;00m\u001b[39m is not a SQLAlchemy type\u001b[39m\u001b[39m\"\u001b[39m)\n\u001b[0;32m   1618\u001b[0m table \u001b[39m=\u001b[39m SQLTable(\n\u001b[0;32m   1619\u001b[0m     name,\n\u001b[0;32m   1620\u001b[0m     \u001b[39mself\u001b[39m,\n\u001b[1;32m   (...)\u001b[0m\n\u001b[0;32m   1626\u001b[0m     dtype\u001b[39m=\u001b[39mdtype,\n\u001b[0;32m   1627\u001b[0m )\n\u001b[1;32m-> 1628\u001b[0m table\u001b[39m.\u001b[39;49mcreate()\n\u001b[0;32m   1629\u001b[0m \u001b[39mreturn\u001b[39;00m table\n",
      "File \u001b[1;32m~\\AppData\\Local\\Packages\\PythonSoftwareFoundation.Python.3.9_qbz5n2kfra8p0\\LocalCache\\local-packages\\Python39\\site-packages\\pandas\\io\\sql.py:833\u001b[0m, in \u001b[0;36mSQLTable.create\u001b[1;34m(self)\u001b[0m\n\u001b[0;32m    831\u001b[0m \u001b[39mif\u001b[39;00m \u001b[39mself\u001b[39m\u001b[39m.\u001b[39mexists():\n\u001b[0;32m    832\u001b[0m     \u001b[39mif\u001b[39;00m \u001b[39mself\u001b[39m\u001b[39m.\u001b[39mif_exists \u001b[39m==\u001b[39m \u001b[39m\"\u001b[39m\u001b[39mfail\u001b[39m\u001b[39m\"\u001b[39m:\n\u001b[1;32m--> 833\u001b[0m         \u001b[39mraise\u001b[39;00m \u001b[39mValueError\u001b[39;00m(\u001b[39mf\u001b[39m\u001b[39m\"\u001b[39m\u001b[39mTable \u001b[39m\u001b[39m'\u001b[39m\u001b[39m{\u001b[39;00m\u001b[39mself\u001b[39m\u001b[39m.\u001b[39mname\u001b[39m}\u001b[39;00m\u001b[39m'\u001b[39m\u001b[39m already exists.\u001b[39m\u001b[39m\"\u001b[39m)\n\u001b[0;32m    834\u001b[0m     \u001b[39melif\u001b[39;00m \u001b[39mself\u001b[39m\u001b[39m.\u001b[39mif_exists \u001b[39m==\u001b[39m \u001b[39m\"\u001b[39m\u001b[39mreplace\u001b[39m\u001b[39m\"\u001b[39m:\n\u001b[0;32m    835\u001b[0m         \u001b[39mself\u001b[39m\u001b[39m.\u001b[39mpd_sql\u001b[39m.\u001b[39mdrop_table(\u001b[39mself\u001b[39m\u001b[39m.\u001b[39mname, \u001b[39mself\u001b[39m\u001b[39m.\u001b[39mschema)\n",
      "\u001b[1;31mValueError\u001b[0m: Table 'players' already exists."
     ]
    }
   ],
   "source": [
    "#adding player list to sql db\n",
    "players.to_sql(\"players\", conn, if_exists=\"fail\")"
   ]
  },
  {
   "cell_type": "code",
   "execution_count": 14,
   "metadata": {},
   "outputs": [
    {
     "name": "stdout",
     "output_type": "stream",
     "text": [
      "2022-06-27 17:30:50,468 INFO sqlalchemy.engine.Engine PRAGMA main.table_info(\"scores\")\n",
      "2022-06-27 17:30:50,468 INFO sqlalchemy.engine.Engine [raw sql] ()\n",
      "2022-06-27 17:30:50,469 INFO sqlalchemy.engine.Engine PRAGMA temp.table_info(\"scores\")\n",
      "2022-06-27 17:30:50,469 INFO sqlalchemy.engine.Engine [raw sql] ()\n",
      "2022-06-27 17:30:50,470 INFO sqlalchemy.engine.Engine \n",
      "CREATE TABLE scores (\n",
      "\t\"index\" BIGINT, \n",
      "\t\"shouldStart\" FLOAT, \n",
      "\tstatus TEXT, \n",
      "\tscore FLOAT, \n",
      "\tid FLOAT, \n",
      "\tweek BIGINT, \n",
      "\tyear BIGINT\n",
      ")\n",
      "\n",
      "\n",
      "2022-06-27 17:30:50,470 INFO sqlalchemy.engine.Engine [no key 0.00026s] ()\n",
      "2022-06-27 17:30:50,485 INFO sqlalchemy.engine.Engine COMMIT\n",
      "2022-06-27 17:30:50,486 INFO sqlalchemy.engine.Engine CREATE INDEX ix_scores_index ON scores (\"index\")\n",
      "2022-06-27 17:30:50,486 INFO sqlalchemy.engine.Engine [no key 0.00027s] ()\n",
      "2022-06-27 17:30:50,496 INFO sqlalchemy.engine.Engine COMMIT\n",
      "2022-06-27 17:30:50,606 INFO sqlalchemy.engine.Engine INSERT INTO scores (\"index\", \"shouldStart\", status, score, id, week, year) VALUES (?, ?, ?, ?, ?, ?, ?)\n",
      "2022-06-27 17:30:50,607 INFO sqlalchemy.engine.Engine [generated in 0.09676s] ((0, 1.0, 'starter', 16.0, 12611.0, 1, 2017), (1, 1.0, 'starter', 13.0, 10273.0, 1, 2017), (2, 0.0, 'starter', 5.5, 12155.0, 1, 2017), (3, 0.0, 'starter', 5.5, 11192.0, 1, 2017), (4, 0.0, 'starter', 5.5, 10369.0, 1, 2017), (5, 1.0, 'starter', 11.5, 10737.0, 1, 2017), (6, 1.0, 'starter', 9.0, 13153.0, 1, 2017), (7, 1.0, 'starter', 14.5, 11232.0, 1, 2017)  ... displaying 10 of 17137 total bound parameter sets ...  (17135, 0.0, 'nonstarter', 7.7, 13418.0, 14, 2020), (17136, 0.0, 'nonstarter', 1.8, 13895.0, 14, 2020))\n",
      "2022-06-27 17:30:50,623 INFO sqlalchemy.engine.Engine COMMIT\n"
     ]
    },
    {
     "data": {
      "text/plain": [
       "17137"
      ]
     },
     "execution_count": 14,
     "metadata": {},
     "output_type": "execute_result"
    }
   ],
   "source": [
    "#adding all scoring data to sql db\n",
    "all_scores.to_sql(\"scores\", conn, if_exists=\"fail\")"
   ]
  },
  {
   "cell_type": "code",
   "execution_count": 16,
   "metadata": {},
   "outputs": [
    {
     "name": "stdout",
     "output_type": "stream",
     "text": [
      "2022-06-27 17:33:03,276 INFO sqlalchemy.engine.Engine \n",
      "SELECT shouldStart \n",
      "FROM scores\n",
      "Limit 3;\n",
      "\n",
      "2022-06-27 17:33:03,276 INFO sqlalchemy.engine.Engine [raw sql] ()\n"
     ]
    },
    {
     "data": {
      "text/html": [
       "<div>\n",
       "<style scoped>\n",
       "    .dataframe tbody tr th:only-of-type {\n",
       "        vertical-align: middle;\n",
       "    }\n",
       "\n",
       "    .dataframe tbody tr th {\n",
       "        vertical-align: top;\n",
       "    }\n",
       "\n",
       "    .dataframe thead th {\n",
       "        text-align: right;\n",
       "    }\n",
       "</style>\n",
       "<table border=\"1\" class=\"dataframe\">\n",
       "  <thead>\n",
       "    <tr style=\"text-align: right;\">\n",
       "      <th></th>\n",
       "      <th>shouldStart</th>\n",
       "    </tr>\n",
       "  </thead>\n",
       "  <tbody>\n",
       "    <tr>\n",
       "      <th>0</th>\n",
       "      <td>1.0</td>\n",
       "    </tr>\n",
       "    <tr>\n",
       "      <th>1</th>\n",
       "      <td>1.0</td>\n",
       "    </tr>\n",
       "    <tr>\n",
       "      <th>2</th>\n",
       "      <td>0.0</td>\n",
       "    </tr>\n",
       "  </tbody>\n",
       "</table>\n",
       "</div>"
      ],
      "text/plain": [
       "   shouldStart\n",
       "0          1.0\n",
       "1          1.0\n",
       "2          0.0"
      ]
     },
     "execution_count": 16,
     "metadata": {},
     "output_type": "execute_result"
    }
   ],
   "source": [
    "#example SQL query to test scores table\n",
    "\n",
    "sql = \"\"\"\n",
    "SELECT shouldStart \n",
    "FROM scores\n",
    "Limit 3;\n",
    "\"\"\"\n",
    "# Read the sql query into pandas to view the results\n",
    "pd.read_sql_query(sql, engine)"
   ]
  },
  {
   "cell_type": "code",
   "execution_count": 18,
   "metadata": {},
   "outputs": [
    {
     "name": "stdout",
     "output_type": "stream",
     "text": [
      "2022-06-27 17:34:40,371 INFO sqlalchemy.engine.Engine \n",
      "SELECT id \n",
      "FROM players\n",
      "Limit 3;\n",
      "\n",
      "2022-06-27 17:34:40,371 INFO sqlalchemy.engine.Engine [raw sql] ()\n"
     ]
    },
    {
     "data": {
      "text/html": [
       "<div>\n",
       "<style scoped>\n",
       "    .dataframe tbody tr th:only-of-type {\n",
       "        vertical-align: middle;\n",
       "    }\n",
       "\n",
       "    .dataframe tbody tr th {\n",
       "        vertical-align: top;\n",
       "    }\n",
       "\n",
       "    .dataframe thead th {\n",
       "        text-align: right;\n",
       "    }\n",
       "</style>\n",
       "<table border=\"1\" class=\"dataframe\">\n",
       "  <thead>\n",
       "    <tr style=\"text-align: right;\">\n",
       "      <th></th>\n",
       "      <th>id</th>\n",
       "    </tr>\n",
       "  </thead>\n",
       "  <tbody>\n",
       "    <tr>\n",
       "      <th>0</th>\n",
       "      <td>5848</td>\n",
       "    </tr>\n",
       "    <tr>\n",
       "      <th>1</th>\n",
       "      <td>7911</td>\n",
       "    </tr>\n",
       "    <tr>\n",
       "      <th>2</th>\n",
       "      <td>8062</td>\n",
       "    </tr>\n",
       "  </tbody>\n",
       "</table>\n",
       "</div>"
      ],
      "text/plain": [
       "     id\n",
       "0  5848\n",
       "1  7911\n",
       "2  8062"
      ]
     },
     "execution_count": 18,
     "metadata": {},
     "output_type": "execute_result"
    }
   ],
   "source": [
    "#example SQL query to test players table\n",
    "\n",
    "sql = \"\"\"\n",
    "SELECT id \n",
    "FROM players\n",
    "Limit 3;\n",
    "\"\"\"\n",
    "# Read the sql query into pandas to view the results\n",
    "pd.read_sql_query(sql, engine)"
   ]
  }
 ],
 "metadata": {
  "kernelspec": {
   "display_name": "Python 3.9.13 64-bit (windows store)",
   "language": "python",
   "name": "python3"
  },
  "language_info": {
   "codemirror_mode": {
    "name": "ipython",
    "version": 3
   },
   "file_extension": ".py",
   "mimetype": "text/x-python",
   "name": "python",
   "nbconvert_exporter": "python",
   "pygments_lexer": "ipython3",
   "version": "3.9.13"
  },
  "orig_nbformat": 4,
  "vscode": {
   "interpreter": {
    "hash": "e573eb6a34c0b72ab40cadb87cb95ce8e491332939d43b3d79a40e464100df54"
   }
  }
 },
 "nbformat": 4,
 "nbformat_minor": 2
}
