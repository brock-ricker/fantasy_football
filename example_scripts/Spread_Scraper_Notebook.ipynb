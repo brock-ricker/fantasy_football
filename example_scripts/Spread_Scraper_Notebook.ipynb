{
 "cells": [
  {
   "cell_type": "markdown",
   "metadata": {},
   "source": [
    "# Spread Web Scraper\n",
    "* Scrapes spreads and games results from https://www.sportsoddshistory.com/\n",
    "* Brock Ricker\n",
    "* https://github.com/brock-ricker\n",
    "* Created 07/01/2022"
   ]
  },
  {
   "cell_type": "code",
   "execution_count": null,
   "metadata": {},
   "outputs": [],
   "source": [
    "#import necesarry modules here\n",
    "import pandas as pd\n",
    "import numpy as np\n",
    "import requests\n",
    "import bs4\n",
    "from sqlalchemy import create_engine\n",
    "import time\n",
    "import os"
   ]
  },
  {
   "cell_type": "code",
   "execution_count": null,
   "metadata": {},
   "outputs": [],
   "source": [
    "#Setup variables\n",
    "db_name = \"NFL_spreads\"\n",
    "years = [2017,2018,2019,2020,2021]"
   ]
  },
  {
   "cell_type": "code",
   "execution_count": null,
   "metadata": {},
   "outputs": [],
   "source": [
    "#connect to db\n",
    "engine = create_engine(f\"sqlite:///{db_name}.db\", echo=False)\n",
    "#create connection to the engine\n",
    "conn = engine.connect()"
   ]
  },
  {
   "cell_type": "markdown",
   "metadata": {},
   "source": [
    "# Data Cleaning Functions"
   ]
  },
  {
   "cell_type": "code",
   "execution_count": null,
   "metadata": {},
   "outputs": [],
   "source": [
    "#constructs dataframe from scraped data\n",
    "def df_construct(row):\n",
    "    spread = row[6].string.split()[-1]\n",
    "    spread = spread.replace(\"PK\",\"0\")\n",
    "    fav_spread = float(spread)\n",
    "    dog_spread = fav_spread*-1\n",
    "    fav_result_spread = row[6].string.split()[0]\n",
    "\n",
    "\n",
    "    over_under = float(row[9].string.split()[-1])\n",
    "\n",
    "    score=row[5].string\n",
    "    score = score.replace(\"(OT)\",\"\").strip()\n",
    "\n",
    "    fav_score = int(score.split()[-1].split(\"-\")[0])\n",
    "    dog_score = int(score.split()[-1].split(\"-\")[-1])\n",
    "    fav_result = score.split()[0]\n",
    "\n",
    "\n",
    "\n",
    "    favorite = pd.DataFrame({\n",
    "        \"day\":[row[0].string],\n",
    "        \"date\":[row[1].string],\n",
    "        \"time\":[row[2].string],\n",
    "        \"team\":[row[4].string],\n",
    "        \"opp\":[row[8].string],\n",
    "        \"score\":fav_score,\n",
    "        \"opp_score\":dog_score,\n",
    "        \"result\":fav_result,\n",
    "        \"spread\":fav_spread,\n",
    "        \"result_spread\":fav_result_spread,\n",
    "        \"over_under\":over_under\n",
    "        })\n",
    "\n",
    "    dog = pd.DataFrame({\n",
    "        \"day\":[row[0].string],\n",
    "        \"date\":[row[1].string],\n",
    "        \"time\":[row[2].string],\n",
    "        \"team\":[row[8].string],\n",
    "        \"opp\":[row[4].string],\n",
    "        \"score\":dog_score,\n",
    "        \"opp_score\":fav_score,\n",
    "        \"result\":fav_result,\n",
    "        \"spread\":dog_spread,\n",
    "        \"result_spread\":fav_result_spread,\n",
    "        \"over_under\":over_under\n",
    "        })\n",
    "\n",
    "    dog[\"result\"].replace({\"W\":\"L\",\"L\":\"W\"},inplace=True)\n",
    "    dog[\"result_spread\"].replace({\"W\":\"L\",\"L\":\"W\"},inplace=True)\n",
    "\n",
    "    spread = pd.concat([favorite,dog],ignore_index=True)\n",
    "\n",
    "    return spread"
   ]
  },
  {
   "cell_type": "code",
   "execution_count": null,
   "metadata": {},
   "outputs": [],
   "source": [
    "#creates score prediction from scraped spreads\n",
    "def score_preds(spreads):\n",
    "    spreads[\"predicted_score\"] = spreads[\"over_under\"]/2 - spreads[\"spread\"]/2\n",
    "    spreads[\"opp_predicted_score\"] = spreads[\"over_under\"]/2 + spreads[\"spread\"]/2\n",
    "    return spreads"
   ]
  },
  {
   "cell_type": "code",
   "execution_count": null,
   "metadata": {},
   "outputs": [],
   "source": [
    "#fixes names in scraped data to match data from APIs\n",
    "def team_name_fixer(df):\n",
    "    \n",
    "    #dictionairy to convert team names to match the rest of the server\n",
    "    team_dict = {'New England Patriots':\"NEP\",\n",
    "        'Kansas City Chiefs':\"KCC\",\n",
    "        'Buffalo Bills':\"BUF\",\n",
    "        'New York Jets':\"NYJ\",\n",
    "        'Atlanta Falcons':\"ATL\",\n",
    "        'Chicago Bears':\"CHI\",\n",
    "        'Cincinnati Bengals':\"CIN\",\n",
    "        'Baltimore Ravens':\"BAL\",\n",
    "        'Pittsburgh Steelers':\"PIT\",\n",
    "        'Cleveland Browns':\"CLE\",\n",
    "        'Arizona Cardinals':\"ARI\",\n",
    "        'Detroit Lions':\"DET\",\n",
    "        'Houston Texans':\"HOU\",\n",
    "        'Jacksonville Jaguars':\"JAC\",\n",
    "        'Tennessee Titans':\"TEN\",\n",
    "        'Oakland Raiders':\"OAK\",\n",
    "        'Philadelphia Eagles':\"PHI\",\n",
    "        'Washington Redskins':\"WAS\",\n",
    "        'Los Angeles Rams':\"LAR\",\n",
    "        'Indianapolis Colts':\"IND\",\n",
    "        'Green Bay Packers':\"GBP\",\n",
    "        'Seattle Seahawks':\"SEA\",\n",
    "        'Carolina Panthers':\"CAR\",\n",
    "        'San Francisco 49ers':\"SFO\",\n",
    "        'Dallas Cowboys':\"DAL\",\n",
    "        'New York Giants':\"NYG\",\n",
    "        'Minnesota Vikings':\"MIN\",\n",
    "        'New Orleans Saints':\"NOS\",\n",
    "        'Denver Broncos':\"DEN\",\n",
    "        'Los Angeles Chargers':\"LAC\",\n",
    "        'Tampa Bay Buccaneers':\"TBB\",\n",
    "        'Miami Dolphins':\"MIA\",\n",
    "        'Las Vegas Raiders':\"LVR\",\n",
    "        'Washington Football Team':\"WAS\"}\n",
    "\n",
    "    df.replace(team_dict,inplace=True)\n",
    "\n",
    "    return df"
   ]
  },
  {
   "cell_type": "markdown",
   "metadata": {},
   "source": [
    "# Scraping Function"
   ]
  },
  {
   "cell_type": "code",
   "execution_count": null,
   "metadata": {},
   "outputs": [],
   "source": [
    "#scrapes website for spreads\n",
    "#creates the following table: \"spreads\"\n",
    "def spread_scraper(years,conn):\n",
    "    logging.info(\"----------------------------------------spread_scraper----------------------------------------\")\n",
    "    for year in years:\n",
    "        spreads = pd.DataFrame()\n",
    "        logging.info(f\"scraping year: {year}\")\n",
    "        #connect to year page\n",
    "        BS_link = f\"https://www.sportsoddshistory.com/nfl-game-season/?y={year}\"\n",
    "        sauce = requests.get(BS_link)\n",
    "        soup = bs4.BeautifulSoup(sauce.text, 'html.parser')\n",
    "        target = soup.find(\"h3\", string=f\"{year} Regular Season - Week 1\")\n",
    "\n",
    "        week_tables = target.find_next_siblings('table')\n",
    "        #remove playoffs\n",
    "        week_tables = week_tables[:-1]\n",
    "\n",
    "        week = 1\n",
    "        for week_table in week_tables:\n",
    "            #find rows in week table\n",
    "            rows = week_table.find_all(\"tr\")\n",
    "            #trim header off rows\n",
    "            rows = rows[1:]\n",
    "            for entry_row in rows:\n",
    "                row = entry_row.find_all(\"td\")\n",
    "                spread = df_construct(row)\n",
    "                spread[\"week\"] = week\n",
    "                spread[\"year\"] = year\n",
    "                spreads = pd.concat([spreads,spread],ignore_index=True)\n",
    "            week = week+1\n",
    "        spreads = score_preds(spreads)\n",
    "        spreads = team_name_fixer(spreads)\n",
    "        spreads.to_sql(\"spreads\", conn, if_exists=\"append\")"
   ]
  },
  {
   "cell_type": "code",
   "execution_count": null,
   "metadata": {},
   "outputs": [],
   "source": [
    "#Call function here\n",
    "spread_scraper(years,conn)"
   ]
  }
 ],
 "metadata": {
  "kernelspec": {
   "display_name": "Python 3.9.13 64-bit (windows store)",
   "language": "python",
   "name": "python3"
  },
  "language_info": {
   "name": "python",
   "version": "3.9.13"
  },
  "orig_nbformat": 4,
  "vscode": {
   "interpreter": {
    "hash": "e573eb6a34c0b72ab40cadb87cb95ce8e491332939d43b3d79a40e464100df54"
   }
  }
 },
 "nbformat": 4,
 "nbformat_minor": 2
}
