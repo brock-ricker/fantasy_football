{
 "cells": [
  {
   "cell_type": "markdown",
   "metadata": {},
   "source": [
    "# Draft Pick and PLayer Evaluator\n",
    "* Uses fantasy football data and NFL game spreads to estimate value of draft picks\n",
    "* Brock Ricker\n",
    "* https://github.com/brock-ricker\n",
    "* Created 09/18/2022"
   ]
  },
  {
   "cell_type": "code",
   "execution_count": 1,
   "metadata": {},
   "outputs": [],
   "source": [
    "#import modules here\n",
    "import pandas as pd\n",
    "import numpy as np\n",
    "import seaborn as sns\n",
    "import matplotlib.pyplot as plt\n",
    "import math\n",
    "from sqlalchemy import create_engine, inspect"
   ]
  },
  {
   "cell_type": "code",
   "execution_count": 2,
   "metadata": {},
   "outputs": [],
   "source": [
    "# create sqlite engine for fantasy_league db\n",
    "engine = create_engine(\"sqlite:///fantasy_football_data.db\", echo=True)\n",
    "#create connection to the engine\n",
    "conn = engine.connect()"
   ]
  },
  {
   "cell_type": "markdown",
   "metadata": {},
   "source": [
    "# Defining Metrics for Evaluation"
   ]
  },
  {
   "cell_type": "code",
   "execution_count": 4,
   "metadata": {},
   "outputs": [
    {
     "name": "stdout",
     "output_type": "stream",
     "text": [
      "2022-09-18 16:06:46,338 INFO sqlalchemy.engine.Engine \n",
      "SELECT sp.name, sp.id, sp.team, sp.position, sp.rookie, wp.score, wp.status, wp.should_start, wp.week, wp.year, wp.regular_season, sp.name\n",
      "FROM weekly_players as wp\n",
      "LEFT JOIN simple_players as sp\n",
      "ON wp.id = sp.id AND wp.year = sp.year\n",
      "\n",
      "2022-09-18 16:06:46,338 INFO sqlalchemy.engine.Engine [raw sql] ()\n"
     ]
    }
   ],
   "source": [
    "#weekly points per player and position query \n",
    "sql = \"\"\"\n",
    "SELECT sp.name, sp.id, sp.team, sp.position, sp.rookie, wp.score, wp.status, wp.should_start, wp.week, wp.year, wp.regular_season, sp.name\n",
    "FROM weekly_players as wp\n",
    "LEFT JOIN simple_players as sp\n",
    "ON wp.id = sp.id AND wp.year = sp.year\n",
    "\"\"\"\n",
    "\n",
    "df = pd.read_sql_query(sql, engine)"
   ]
  },
  {
   "cell_type": "code",
   "execution_count": 5,
   "metadata": {},
   "outputs": [],
   "source": [
    "# filtering to starters only\n",
    "starters = df.loc[df[\"status\"]==\"starter\"]\n",
    "\n",
    "# dropping null scores, these are from score  = 0 this means the player most likely started someone they shoud not have\n",
    "starters = starters.dropna()\n",
    "\n",
    "#selecting only regular season games\n",
    "starters = starters.loc[starters[\"regular_season\"]==1]"
   ]
  },
  {
   "cell_type": "code",
   "execution_count": 6,
   "metadata": {},
   "outputs": [],
   "source": [
    "#calculating score thresholds for different positions\n",
    "score_25th_list = list()\n",
    "score_50th_list = list()\n",
    "score_90th_list = list()\n",
    "\n",
    "positions = df[\"position\"].unique()\n",
    "for pos in positions:\n",
    "    pos_score = starters.loc[(starters[\"position\"] == f\"{pos}\")]\n",
    "    score_25th_list.append(pos_score[\"score\"].quantile(q=0.25).round(2))\n",
    "    score_50th_list.append(pos_score[\"score\"].median())\n",
    "    score_90th_list.append(pos_score[\"score\"].quantile(q=0.9).round(2))\n"
   ]
  },
  {
   "cell_type": "code",
   "execution_count": 7,
   "metadata": {},
   "outputs": [],
   "source": [
    "#converting score thresholds to Data Frame \n",
    "pos_metrics = pd.DataFrame({\n",
    "    \"position\":positions,\n",
    "    \"score_25th\":score_25th_list,\n",
    "    \"score_50th\":score_50th_list,\n",
    "    \"score_90th\":score_90th_list\n",
    "})"
   ]
  },
  {
   "cell_type": "code",
   "execution_count": 8,
   "metadata": {},
   "outputs": [
    {
     "name": "stdout",
     "output_type": "stream",
     "text": [
      "2022-09-18 16:15:59,182 INFO sqlalchemy.engine.Engine PRAGMA main.table_info(\"pos_metrics\")\n",
      "2022-09-18 16:15:59,182 INFO sqlalchemy.engine.Engine [raw sql] ()\n",
      "2022-09-18 16:15:59,183 INFO sqlalchemy.engine.Engine PRAGMA temp.table_info(\"pos_metrics\")\n",
      "2022-09-18 16:15:59,183 INFO sqlalchemy.engine.Engine [raw sql] ()\n",
      "2022-09-18 16:15:59,184 INFO sqlalchemy.engine.Engine \n",
      "CREATE TABLE pos_metrics (\n",
      "\t\"index\" BIGINT, \n",
      "\tposition TEXT, \n",
      "\tscore_25th FLOAT, \n",
      "\tscore_50th FLOAT, \n",
      "\tscore_90th FLOAT\n",
      ")\n",
      "\n",
      "\n",
      "2022-09-18 16:15:59,184 INFO sqlalchemy.engine.Engine [no key 0.00029s] ()\n",
      "2022-09-18 16:15:59,200 INFO sqlalchemy.engine.Engine COMMIT\n",
      "2022-09-18 16:15:59,201 INFO sqlalchemy.engine.Engine CREATE INDEX ix_pos_metrics_index ON pos_metrics (\"index\")\n",
      "2022-09-18 16:15:59,201 INFO sqlalchemy.engine.Engine [no key 0.00053s] ()\n",
      "2022-09-18 16:15:59,211 INFO sqlalchemy.engine.Engine COMMIT\n",
      "2022-09-18 16:15:59,213 INFO sqlalchemy.engine.Engine INSERT INTO pos_metrics (\"index\", position, score_25th, score_50th, score_90th) VALUES (?, ?, ?, ?, ?)\n",
      "2022-09-18 16:15:59,214 INFO sqlalchemy.engine.Engine [generated in 0.00068s] ((0, 'QB', 12.94, 18.02, 28.97), (1, 'RB', 6.3, 10.9, 23.7), (2, 'WR', 5.28, 9.9, 21.8), (3, 'TE', 4.2, 8.8, 20.5))\n",
      "2022-09-18 16:15:59,215 INFO sqlalchemy.engine.Engine COMMIT\n"
     ]
    },
    {
     "data": {
      "text/plain": [
       "4"
      ]
     },
     "execution_count": 8,
     "metadata": {},
     "output_type": "execute_result"
    }
   ],
   "source": [
    "#saving metrics table to SQL db in order to use it for later pulls\n",
    "pos_metrics.to_sql(\"pos_metrics\", conn, if_exists=\"replace\")"
   ]
  },
  {
   "cell_type": "markdown",
   "metadata": {},
   "source": [
    "# Rookie Draft Pick Evaluation"
   ]
  },
  {
   "cell_type": "code",
   "execution_count": 12,
   "metadata": {},
   "outputs": [
    {
     "name": "stdout",
     "output_type": "stream",
     "text": [
      "2022-09-18 17:19:44,860 INFO sqlalchemy.engine.Engine \n",
      "SELECT df.year AS draft_year, df.round AS draft_round, df.pick AS draft_pick, sp.name, sp.position, wp.year, wp.week, wp.score, pm.score_25th, pm.score_50th, pm.score_90th, \n",
      "CASE WHEN wp.score < pm.score_25th THEN \"Trash Start\"\n",
      "WHEN wp.score  < pm.score_50th THEN \"Bad Start\"\n",
      "WHEN wp.score < pm.score_90th THEN \"Good Start\"\n",
      "WHEN wp.score >= pm.score_90th THEN \"Elite Start\"\n",
      "ELSE \"DNP\" END AS start_type\n",
      "FROM draft as df\n",
      "LEFT JOIN weekly_players as wp\n",
      "ON df.player = wp.id\n",
      "LEFT JOIN simple_players AS sp\n",
      "ON wp.id = sp.id AND wp.year = sp.year\n",
      "LEFT JOIN pos_metrics AS pm\n",
      "ON sp.position = pm.position\n",
      "WHERE NOT df.year = 2017 and NOT df.year = 2022\n",
      "ORDER BY df.year, df.round, df.pick, wp.year, wp.week\n",
      "\n",
      "2022-09-18 17:19:44,860 INFO sqlalchemy.engine.Engine [raw sql] ()\n"
     ]
    }
   ],
   "source": [
    "#Pulling rookie draft data with metrics attached\n",
    "sql = \"\"\"\n",
    "SELECT df.year AS draft_year, df.round AS draft_round, df.pick AS draft_pick, sp.name, sp.position, wp.year, wp.week, wp.score, pm.score_25th, pm.score_50th, pm.score_90th, \n",
    "CASE WHEN wp.score < pm.score_25th THEN \"Trash Start\"\n",
    "WHEN wp.score  < pm.score_50th THEN \"Bad Start\"\n",
    "WHEN wp.score < pm.score_90th THEN \"Good Start\"\n",
    "WHEN wp.score >= pm.score_90th THEN \"Elite Start\"\n",
    "ELSE \"DNP\" END AS start_type\n",
    "FROM draft as df\n",
    "LEFT JOIN weekly_players as wp\n",
    "ON df.player = wp.id\n",
    "LEFT JOIN simple_players AS sp\n",
    "ON wp.id = sp.id AND wp.year = sp.year\n",
    "LEFT JOIN pos_metrics AS pm\n",
    "ON sp.position = pm.position\n",
    "WHERE NOT df.year = 2017 and NOT df.year = 2022\n",
    "ORDER BY df.year, df.round, df.pick, wp.year, wp.week\n",
    "\"\"\"\n",
    "\n",
    "df = pd.read_sql_query(sql, engine)\n"
   ]
  },
  {
   "cell_type": "code",
   "execution_count": 13,
   "metadata": {},
   "outputs": [],
   "source": [
    "#converting data types of pick#\n",
    "df = df.astype({\n",
    "    \"draft_round\":int,\n",
    "    \"draft_pick\":int\n",
    "})"
   ]
  },
  {
   "cell_type": "code",
   "execution_count": 14,
   "metadata": {},
   "outputs": [],
   "source": [
    "#creating total pick number column\n",
    "df[\"pick_number\"] = (df[\"draft_round\"]-1)*12+df[\"draft_pick\"]\n",
    "\n",
    "#creating pick \"group\" this will be used to cluster pick numbers\n",
    "df[\"pick_group\"] = df[\"pick_number\"].apply(lambda x: math.floor(x/4)+1)"
   ]
  },
  {
   "cell_type": "code",
   "execution_count": 15,
   "metadata": {},
   "outputs": [],
   "source": [
    "#creating career year column (rookie season = career year 1)\n",
    "df[\"career_year\"] = df[\"year\"] - df[\"draft_year\"] + 1"
   ]
  },
  {
   "cell_type": "code",
   "execution_count": 16,
   "metadata": {},
   "outputs": [],
   "source": [
    "#removing odd blanks from starts. This table will be used for start %s and availability\n",
    "start_numbers = df.loc[~df[\"year\"].isnull()]"
   ]
  },
  {
   "cell_type": "code",
   "execution_count": 20,
   "metadata": {},
   "outputs": [],
   "source": [
    "#removing ALL blanks from points, I dont want to include DNPs in this.\n",
    "points = df.dropna()"
   ]
  },
  {
   "cell_type": "code",
   "execution_count": 21,
   "metadata": {},
   "outputs": [
    {
     "name": "stderr",
     "output_type": "stream",
     "text": [
      "C:\\Users\\brock\\AppData\\Local\\Temp\\ipykernel_23524\\1860792089.py:2: SettingWithCopyWarning: \n",
      "A value is trying to be set on a copy of a slice from a DataFrame.\n",
      "Try using .loc[row_indexer,col_indexer] = value instead\n",
      "\n",
      "See the caveats in the documentation: https://pandas.pydata.org/pandas-docs/stable/user_guide/indexing.html#returning-a-view-versus-a-copy\n",
      "  points[\"points_above_med\"] = points[\"score\"]-points[\"score_50th\"]\n"
     ]
    }
   ],
   "source": [
    "#creating points above good start number\n",
    "points[\"points_above_med\"] = points[\"score\"]-points[\"score_50th\"]"
   ]
  },
  {
   "cell_type": "code",
   "execution_count": 28,
   "metadata": {},
   "outputs": [
    {
     "name": "stdout",
     "output_type": "stream",
     "text": [
      "<class 'pandas.core.frame.DataFrame'>\n",
      "Int64Index: 3498 entries, 0 to 4683\n",
      "Data columns (total 16 columns):\n",
      " #   Column            Non-Null Count  Dtype  \n",
      "---  ------            --------------  -----  \n",
      " 0   draft_year        3498 non-null   int64  \n",
      " 1   draft_round       3498 non-null   int32  \n",
      " 2   draft_pick        3498 non-null   int32  \n",
      " 3   name              3498 non-null   object \n",
      " 4   position          3498 non-null   object \n",
      " 5   year              3498 non-null   float64\n",
      " 6   week              3498 non-null   float64\n",
      " 7   score             3498 non-null   float64\n",
      " 8   score_25th        3498 non-null   float64\n",
      " 9   score_50th        3498 non-null   float64\n",
      " 10  score_90th        3498 non-null   float64\n",
      " 11  start_type        3498 non-null   object \n",
      " 12  pick_number       3498 non-null   int32  \n",
      " 13  pick_group        3498 non-null   int64  \n",
      " 14  career_year       3498 non-null   float64\n",
      " 15  points_above_med  3498 non-null   float64\n",
      "dtypes: float64(8), int32(3), int64(2), object(3)\n",
      "memory usage: 423.6+ KB\n"
     ]
    }
   ],
   "source": [
    "points.info()"
   ]
  },
  {
   "cell_type": "code",
   "execution_count": 48,
   "metadata": {},
   "outputs": [],
   "source": [
    "    #set seaborn style\n",
    "    sns.set_context('talk')\n",
    "    plt.style.use('seaborn-dark')"
   ]
  },
  {
   "cell_type": "code",
   "execution_count": 57,
   "metadata": {},
   "outputs": [
    {
     "data": {
      "text/html": [
       "<div>\n",
       "<style scoped>\n",
       "    .dataframe tbody tr th:only-of-type {\n",
       "        vertical-align: middle;\n",
       "    }\n",
       "\n",
       "    .dataframe tbody tr th {\n",
       "        vertical-align: top;\n",
       "    }\n",
       "\n",
       "    .dataframe thead th {\n",
       "        text-align: right;\n",
       "    }\n",
       "</style>\n",
       "<table border=\"1\" class=\"dataframe\">\n",
       "  <thead>\n",
       "    <tr style=\"text-align: right;\">\n",
       "      <th></th>\n",
       "      <th>draft_year</th>\n",
       "      <th>draft_round</th>\n",
       "      <th>draft_pick</th>\n",
       "      <th>name</th>\n",
       "      <th>position</th>\n",
       "      <th>year</th>\n",
       "      <th>week</th>\n",
       "      <th>score</th>\n",
       "      <th>score_25th</th>\n",
       "      <th>score_50th</th>\n",
       "      <th>score_90th</th>\n",
       "      <th>start_type</th>\n",
       "      <th>pick_number</th>\n",
       "      <th>pick_group</th>\n",
       "      <th>career_year</th>\n",
       "      <th>points_above_med</th>\n",
       "    </tr>\n",
       "  </thead>\n",
       "  <tbody>\n",
       "    <tr>\n",
       "      <th>0</th>\n",
       "      <td>2018</td>\n",
       "      <td>1</td>\n",
       "      <td>1</td>\n",
       "      <td>Barkley, Saquon</td>\n",
       "      <td>RB</td>\n",
       "      <td>2018.0</td>\n",
       "      <td>1.0</td>\n",
       "      <td>19.80</td>\n",
       "      <td>6.30</td>\n",
       "      <td>10.90</td>\n",
       "      <td>23.70</td>\n",
       "      <td>Good Start</td>\n",
       "      <td>1</td>\n",
       "      <td>1</td>\n",
       "      <td>1.0</td>\n",
       "      <td>8.90</td>\n",
       "    </tr>\n",
       "    <tr>\n",
       "      <th>1</th>\n",
       "      <td>2018</td>\n",
       "      <td>1</td>\n",
       "      <td>1</td>\n",
       "      <td>Barkley, Saquon</td>\n",
       "      <td>RB</td>\n",
       "      <td>2018.0</td>\n",
       "      <td>2.0</td>\n",
       "      <td>17.80</td>\n",
       "      <td>6.30</td>\n",
       "      <td>10.90</td>\n",
       "      <td>23.70</td>\n",
       "      <td>Good Start</td>\n",
       "      <td>1</td>\n",
       "      <td>1</td>\n",
       "      <td>1.0</td>\n",
       "      <td>6.90</td>\n",
       "    </tr>\n",
       "    <tr>\n",
       "      <th>2</th>\n",
       "      <td>2018</td>\n",
       "      <td>1</td>\n",
       "      <td>1</td>\n",
       "      <td>Barkley, Saquon</td>\n",
       "      <td>RB</td>\n",
       "      <td>2018.0</td>\n",
       "      <td>3.0</td>\n",
       "      <td>20.20</td>\n",
       "      <td>6.30</td>\n",
       "      <td>10.90</td>\n",
       "      <td>23.70</td>\n",
       "      <td>Good Start</td>\n",
       "      <td>1</td>\n",
       "      <td>1</td>\n",
       "      <td>1.0</td>\n",
       "      <td>9.30</td>\n",
       "    </tr>\n",
       "    <tr>\n",
       "      <th>3</th>\n",
       "      <td>2018</td>\n",
       "      <td>1</td>\n",
       "      <td>1</td>\n",
       "      <td>Barkley, Saquon</td>\n",
       "      <td>RB</td>\n",
       "      <td>2018.0</td>\n",
       "      <td>4.0</td>\n",
       "      <td>19.00</td>\n",
       "      <td>6.30</td>\n",
       "      <td>10.90</td>\n",
       "      <td>23.70</td>\n",
       "      <td>Good Start</td>\n",
       "      <td>1</td>\n",
       "      <td>1</td>\n",
       "      <td>1.0</td>\n",
       "      <td>8.10</td>\n",
       "    </tr>\n",
       "    <tr>\n",
       "      <th>4</th>\n",
       "      <td>2018</td>\n",
       "      <td>1</td>\n",
       "      <td>1</td>\n",
       "      <td>Barkley, Saquon</td>\n",
       "      <td>RB</td>\n",
       "      <td>2018.0</td>\n",
       "      <td>5.0</td>\n",
       "      <td>26.90</td>\n",
       "      <td>6.30</td>\n",
       "      <td>10.90</td>\n",
       "      <td>23.70</td>\n",
       "      <td>Elite Start</td>\n",
       "      <td>1</td>\n",
       "      <td>1</td>\n",
       "      <td>1.0</td>\n",
       "      <td>16.00</td>\n",
       "    </tr>\n",
       "    <tr>\n",
       "      <th>...</th>\n",
       "      <td>...</td>\n",
       "      <td>...</td>\n",
       "      <td>...</td>\n",
       "      <td>...</td>\n",
       "      <td>...</td>\n",
       "      <td>...</td>\n",
       "      <td>...</td>\n",
       "      <td>...</td>\n",
       "      <td>...</td>\n",
       "      <td>...</td>\n",
       "      <td>...</td>\n",
       "      <td>...</td>\n",
       "      <td>...</td>\n",
       "      <td>...</td>\n",
       "      <td>...</td>\n",
       "      <td>...</td>\n",
       "    </tr>\n",
       "    <tr>\n",
       "      <th>4679</th>\n",
       "      <td>2021</td>\n",
       "      <td>4</td>\n",
       "      <td>12</td>\n",
       "      <td>Mills, Davis</td>\n",
       "      <td>QB</td>\n",
       "      <td>2021.0</td>\n",
       "      <td>13.0</td>\n",
       "      <td>3.06</td>\n",
       "      <td>12.94</td>\n",
       "      <td>18.02</td>\n",
       "      <td>28.97</td>\n",
       "      <td>Trash Start</td>\n",
       "      <td>48</td>\n",
       "      <td>13</td>\n",
       "      <td>1.0</td>\n",
       "      <td>-14.96</td>\n",
       "    </tr>\n",
       "    <tr>\n",
       "      <th>4680</th>\n",
       "      <td>2021</td>\n",
       "      <td>4</td>\n",
       "      <td>12</td>\n",
       "      <td>Mills, Davis</td>\n",
       "      <td>QB</td>\n",
       "      <td>2021.0</td>\n",
       "      <td>14.0</td>\n",
       "      <td>18.04</td>\n",
       "      <td>12.94</td>\n",
       "      <td>18.02</td>\n",
       "      <td>28.97</td>\n",
       "      <td>Good Start</td>\n",
       "      <td>48</td>\n",
       "      <td>13</td>\n",
       "      <td>1.0</td>\n",
       "      <td>0.02</td>\n",
       "    </tr>\n",
       "    <tr>\n",
       "      <th>4681</th>\n",
       "      <td>2021</td>\n",
       "      <td>4</td>\n",
       "      <td>12</td>\n",
       "      <td>Mills, Davis</td>\n",
       "      <td>QB</td>\n",
       "      <td>2021.0</td>\n",
       "      <td>15.0</td>\n",
       "      <td>15.56</td>\n",
       "      <td>12.94</td>\n",
       "      <td>18.02</td>\n",
       "      <td>28.97</td>\n",
       "      <td>Bad Start</td>\n",
       "      <td>48</td>\n",
       "      <td>13</td>\n",
       "      <td>1.0</td>\n",
       "      <td>-2.46</td>\n",
       "    </tr>\n",
       "    <tr>\n",
       "      <th>4682</th>\n",
       "      <td>2021</td>\n",
       "      <td>4</td>\n",
       "      <td>12</td>\n",
       "      <td>Mills, Davis</td>\n",
       "      <td>QB</td>\n",
       "      <td>2021.0</td>\n",
       "      <td>16.0</td>\n",
       "      <td>18.06</td>\n",
       "      <td>12.94</td>\n",
       "      <td>18.02</td>\n",
       "      <td>28.97</td>\n",
       "      <td>Good Start</td>\n",
       "      <td>48</td>\n",
       "      <td>13</td>\n",
       "      <td>1.0</td>\n",
       "      <td>0.04</td>\n",
       "    </tr>\n",
       "    <tr>\n",
       "      <th>4683</th>\n",
       "      <td>2021</td>\n",
       "      <td>4</td>\n",
       "      <td>12</td>\n",
       "      <td>Mills, Davis</td>\n",
       "      <td>QB</td>\n",
       "      <td>2021.0</td>\n",
       "      <td>17.0</td>\n",
       "      <td>9.92</td>\n",
       "      <td>12.94</td>\n",
       "      <td>18.02</td>\n",
       "      <td>28.97</td>\n",
       "      <td>Trash Start</td>\n",
       "      <td>48</td>\n",
       "      <td>13</td>\n",
       "      <td>1.0</td>\n",
       "      <td>-8.10</td>\n",
       "    </tr>\n",
       "  </tbody>\n",
       "</table>\n",
       "<p>3498 rows × 16 columns</p>\n",
       "</div>"
      ],
      "text/plain": [
       "      draft_year  draft_round  draft_pick             name position    year  \\\n",
       "0           2018            1           1  Barkley, Saquon       RB  2018.0   \n",
       "1           2018            1           1  Barkley, Saquon       RB  2018.0   \n",
       "2           2018            1           1  Barkley, Saquon       RB  2018.0   \n",
       "3           2018            1           1  Barkley, Saquon       RB  2018.0   \n",
       "4           2018            1           1  Barkley, Saquon       RB  2018.0   \n",
       "...          ...          ...         ...              ...      ...     ...   \n",
       "4679        2021            4          12     Mills, Davis       QB  2021.0   \n",
       "4680        2021            4          12     Mills, Davis       QB  2021.0   \n",
       "4681        2021            4          12     Mills, Davis       QB  2021.0   \n",
       "4682        2021            4          12     Mills, Davis       QB  2021.0   \n",
       "4683        2021            4          12     Mills, Davis       QB  2021.0   \n",
       "\n",
       "      week  score  score_25th  score_50th  score_90th   start_type  \\\n",
       "0      1.0  19.80        6.30       10.90       23.70   Good Start   \n",
       "1      2.0  17.80        6.30       10.90       23.70   Good Start   \n",
       "2      3.0  20.20        6.30       10.90       23.70   Good Start   \n",
       "3      4.0  19.00        6.30       10.90       23.70   Good Start   \n",
       "4      5.0  26.90        6.30       10.90       23.70  Elite Start   \n",
       "...    ...    ...         ...         ...         ...          ...   \n",
       "4679  13.0   3.06       12.94       18.02       28.97  Trash Start   \n",
       "4680  14.0  18.04       12.94       18.02       28.97   Good Start   \n",
       "4681  15.0  15.56       12.94       18.02       28.97    Bad Start   \n",
       "4682  16.0  18.06       12.94       18.02       28.97   Good Start   \n",
       "4683  17.0   9.92       12.94       18.02       28.97  Trash Start   \n",
       "\n",
       "      pick_number  pick_group  career_year  points_above_med  \n",
       "0               1           1          1.0              8.90  \n",
       "1               1           1          1.0              6.90  \n",
       "2               1           1          1.0              9.30  \n",
       "3               1           1          1.0              8.10  \n",
       "4               1           1          1.0             16.00  \n",
       "...           ...         ...          ...               ...  \n",
       "4679           48          13          1.0            -14.96  \n",
       "4680           48          13          1.0              0.02  \n",
       "4681           48          13          1.0             -2.46  \n",
       "4682           48          13          1.0              0.04  \n",
       "4683           48          13          1.0             -8.10  \n",
       "\n",
       "[3498 rows x 16 columns]"
      ]
     },
     "execution_count": 57,
     "metadata": {},
     "output_type": "execute_result"
    }
   ],
   "source": [
    "points"
   ]
  },
  {
   "cell_type": "code",
   "execution_count": 71,
   "metadata": {},
   "outputs": [],
   "source": [
    "#creating custom dtype for start type ordering\n",
    "from pandas.api.types import CategoricalDtype\n",
    "start_type_data = CategoricalDtype([\"DNP\", \"Trash Start\", \"Bad Start\", \"Good Start\", \"Elite Start\"], ordered=True)"
   ]
  },
  {
   "cell_type": "code",
   "execution_count": 82,
   "metadata": {},
   "outputs": [],
   "source": [
    "#draft pick evaluator\n",
    "def pick_eval(pick,start_number=start_numbers,points=points):\n",
    "    \n",
    "    #calculating pick group from pick # input\n",
    "    pick_group = math.floor(pick/4)+1\n",
    "\n",
    "    #filtering by pick group\n",
    "    pick_scores = points.loc[points[\"pick_group\"]==pick_group]\n",
    "    \n",
    "    #plotting histogram\n",
    "    plt.style.use('seaborn-dark')\n",
    "    plt.figure(figsize= (8,5))\n",
    "    sns.histplot(data=pick_scores, x=\"points_above_med\", hue=\"position\", multiple=\"stack\",  hue_order=[\"QB\",\"WR\",\"RB\",\"TE\"])\n",
    "    plt.title(f\"Draft Pick #{pick} Starter Score distribution\")\n",
    "    plt.axvline(x=0, color=\"r\", ls= \"--\")\n",
    "    plt.xlim(-20,20)\n",
    "\n",
    "    #filter to specific pick group and groups by start type\n",
    "    pick_starts = start_numbers.loc[start_numbers[\"pick_group\"]==pick_group].groupby(by=[\"start_type\"],as_index=False).count()\n",
    "\n",
    "    #deletes eronous columns\n",
    "    pick_starts = pick_starts[[\"start_type\",\"week\"]]\n",
    "    #renames column\n",
    "    pick_starts = pick_starts.rename(columns = {\"week\":\"count\"})\n",
    "    \n",
    "    # of games since joining leagu\n",
    "    total_starts = pick_starts[\"count\"].sum()\n",
    "    \n",
    "    #calculating start type %\n",
    "    pick_starts[\"%\"] = (pick_starts[\"count\"]/total_starts).round(2)*100\n",
    "\n",
    "    #Sorting by start type\n",
    "    pick_starts[\"start_type\"] = pick_starts[\"start_type\"].astype(start_type_data)\n",
    "    pick_starts.sort_values([\"start_type\"], ascending=False, inplace=True)\n",
    "\n",
    "    return pick_starts\n"
   ]
  },
  {
   "cell_type": "code",
   "execution_count": 83,
   "metadata": {},
   "outputs": [
    {
     "data": {
      "text/html": [
       "<div>\n",
       "<style scoped>\n",
       "    .dataframe tbody tr th:only-of-type {\n",
       "        vertical-align: middle;\n",
       "    }\n",
       "\n",
       "    .dataframe tbody tr th {\n",
       "        vertical-align: top;\n",
       "    }\n",
       "\n",
       "    .dataframe thead th {\n",
       "        text-align: right;\n",
       "    }\n",
       "</style>\n",
       "<table border=\"1\" class=\"dataframe\">\n",
       "  <thead>\n",
       "    <tr style=\"text-align: right;\">\n",
       "      <th></th>\n",
       "      <th>start_type</th>\n",
       "      <th>count</th>\n",
       "      <th>%</th>\n",
       "    </tr>\n",
       "  </thead>\n",
       "  <tbody>\n",
       "    <tr>\n",
       "      <th>2</th>\n",
       "      <td>Elite Start</td>\n",
       "      <td>9</td>\n",
       "      <td>2.0</td>\n",
       "    </tr>\n",
       "    <tr>\n",
       "      <th>3</th>\n",
       "      <td>Good Start</td>\n",
       "      <td>34</td>\n",
       "      <td>7.0</td>\n",
       "    </tr>\n",
       "    <tr>\n",
       "      <th>0</th>\n",
       "      <td>Bad Start</td>\n",
       "      <td>64</td>\n",
       "      <td>13.0</td>\n",
       "    </tr>\n",
       "    <tr>\n",
       "      <th>4</th>\n",
       "      <td>Trash Start</td>\n",
       "      <td>223</td>\n",
       "      <td>46.0</td>\n",
       "    </tr>\n",
       "    <tr>\n",
       "      <th>1</th>\n",
       "      <td>DNP</td>\n",
       "      <td>155</td>\n",
       "      <td>32.0</td>\n",
       "    </tr>\n",
       "  </tbody>\n",
       "</table>\n",
       "</div>"
      ],
      "text/plain": [
       "    start_type  count     %\n",
       "2  Elite Start      9   2.0\n",
       "3   Good Start     34   7.0\n",
       "0    Bad Start     64  13.0\n",
       "4  Trash Start    223  46.0\n",
       "1          DNP    155  32.0"
      ]
     },
     "execution_count": 83,
     "metadata": {},
     "output_type": "execute_result"
    },
    {
     "data": {
      "image/png": "[encoded data removed]",
      "text/plain": [
       "<Figure size 576x360 with 1 Axes>"
      ]
     },
     "metadata": {},
     "output_type": "display_data"
    }
   ],
   "source": [
    "pick_eval(30)"
   ]
  },
  {
   "cell_type": "markdown",
   "metadata": {},
   "source": [
    "# Player Evaluation"
   ]
  },
  {
   "cell_type": "code",
   "execution_count": 84,
   "metadata": {},
   "outputs": [],
   "source": [
    "#draft pick evaluator\n",
    "def player_eval(player,start_number=start_numbers,points=points):\n",
    "    \n",
    "    #filtering by player name\n",
    "    player_scores = points.loc[points[\"name\"]==player]\n",
    "    \n",
    "    #plotting histogram\n",
    "    plt.figure(figsize= (8,5))\n",
    "    sns.histplot(data=player_scores, x=\"points_above_med\", hue=\"position\", multiple=\"stack\",  hue_order=[\"QB\",\"WR\",\"RB\",\"TE\"])\n",
    "    plt.title(f\"{player}'s Start Score distribution\")\n",
    "    plt.axvline(x=0, color=\"r\", ls= \"--\")\n",
    "    plt.xlim(-20,20)\n",
    "\n",
    "    #filter to specific pick group and groups by start type\n",
    "    player_starts = start_numbers.loc[start_numbers[\"name\"]==player].groupby(by=[\"start_type\"],as_index=False).count()\n",
    "\n",
    "    #deletes eronous columns\n",
    "    player_starts = player_starts[[\"start_type\",\"week\"]]\n",
    "    #renames column\n",
    "    player_starts = player_starts.rename(columns = {\"week\":\"count\"})\n",
    "    \n",
    "    #calculating # of games since joining league\n",
    "    total_starts = player_starts[\"count\"].sum()\n",
    "    \n",
    "    #calculating start type %\n",
    "    player_starts[\"%\"] = (player_starts[\"count\"]/total_starts).round(2)*100\n",
    "\n",
    "    #Sorting by start type\n",
    "    player_starts[\"start_type\"] = player_starts[\"start_type\"].astype(start_type_data)\n",
    "    player_starts.sort_values([\"start_type\"], ascending=False, inplace=True)\n",
    "\n",
    "    return player_starts\n"
   ]
  },
  {
   "cell_type": "code",
   "execution_count": 85,
   "metadata": {},
   "outputs": [
    {
     "data": {
      "text/html": [
       "<div>\n",
       "<style scoped>\n",
       "    .dataframe tbody tr th:only-of-type {\n",
       "        vertical-align: middle;\n",
       "    }\n",
       "\n",
       "    .dataframe tbody tr th {\n",
       "        vertical-align: top;\n",
       "    }\n",
       "\n",
       "    .dataframe thead th {\n",
       "        text-align: right;\n",
       "    }\n",
       "</style>\n",
       "<table border=\"1\" class=\"dataframe\">\n",
       "  <thead>\n",
       "    <tr style=\"text-align: right;\">\n",
       "      <th></th>\n",
       "      <th>start_type</th>\n",
       "      <th>count</th>\n",
       "      <th>%</th>\n",
       "    </tr>\n",
       "  </thead>\n",
       "  <tbody>\n",
       "    <tr>\n",
       "      <th>2</th>\n",
       "      <td>Elite Start</td>\n",
       "      <td>12</td>\n",
       "      <td>22.0</td>\n",
       "    </tr>\n",
       "    <tr>\n",
       "      <th>3</th>\n",
       "      <td>Good Start</td>\n",
       "      <td>20</td>\n",
       "      <td>37.0</td>\n",
       "    </tr>\n",
       "    <tr>\n",
       "      <th>0</th>\n",
       "      <td>Bad Start</td>\n",
       "      <td>7</td>\n",
       "      <td>13.0</td>\n",
       "    </tr>\n",
       "    <tr>\n",
       "      <th>4</th>\n",
       "      <td>Trash Start</td>\n",
       "      <td>7</td>\n",
       "      <td>13.0</td>\n",
       "    </tr>\n",
       "    <tr>\n",
       "      <th>1</th>\n",
       "      <td>DNP</td>\n",
       "      <td>8</td>\n",
       "      <td>15.0</td>\n",
       "    </tr>\n",
       "  </tbody>\n",
       "</table>\n",
       "</div>"
      ],
      "text/plain": [
       "    start_type  count     %\n",
       "2  Elite Start     12  22.0\n",
       "3   Good Start     20  37.0\n",
       "0    Bad Start      7  13.0\n",
       "4  Trash Start      7  13.0\n",
       "1          DNP      8  15.0"
      ]
     },
     "execution_count": 85,
     "metadata": {},
     "output_type": "execute_result"
    },
    {
     "data": {
      "image/png": "[encoded data removed]",
      "text/plain": [
       "<Figure size 576x360 with 1 Axes>"
      ]
     },
     "metadata": {},
     "output_type": "display_data"
    }
   ],
   "source": [
    "player_eval(\"Allen, Josh\")"
   ]
  },
  {
   "cell_type": "code",
   "execution_count": 61,
   "metadata": {},
   "outputs": [
    {
     "name": "stdout",
     "output_type": "stream",
     "text": [
      "<class 'pandas.core.frame.DataFrame'>\n",
      "Int64Index: 3498 entries, 0 to 4683\n",
      "Data columns (total 16 columns):\n",
      " #   Column            Non-Null Count  Dtype  \n",
      "---  ------            --------------  -----  \n",
      " 0   draft_year        3498 non-null   int64  \n",
      " 1   draft_round       3498 non-null   int32  \n",
      " 2   draft_pick        3498 non-null   int32  \n",
      " 3   name              3498 non-null   object \n",
      " 4   position          3498 non-null   object \n",
      " 5   year              3498 non-null   float64\n",
      " 6   week              3498 non-null   float64\n",
      " 7   score             3498 non-null   float64\n",
      " 8   score_25th        3498 non-null   float64\n",
      " 9   score_50th        3498 non-null   float64\n",
      " 10  score_90th        3498 non-null   float64\n",
      " 11  start_type        3498 non-null   object \n",
      " 12  pick_number       3498 non-null   int32  \n",
      " 13  pick_group        3498 non-null   int64  \n",
      " 14  career_year       3498 non-null   float64\n",
      " 15  points_above_med  3498 non-null   float64\n",
      "dtypes: float64(8), int32(3), int64(2), object(3)\n",
      "memory usage: 423.6+ KB\n"
     ]
    }
   ],
   "source": [
    "points.info()"
   ]
  }
 ],
 "metadata": {
  "kernelspec": {
   "display_name": "Python 3.9.13 64-bit (windows store)",
   "language": "python",
   "name": "python3"
  },
  "language_info": {
   "codemirror_mode": {
    "name": "ipython",
    "version": 3
   },
   "file_extension": ".py",
   "mimetype": "text/x-python",
   "name": "python",
   "nbconvert_exporter": "python",
   "pygments_lexer": "ipython3",
   "version": "3.9.13"
  },
  "orig_nbformat": 4,
  "vscode": {
   "interpreter": {
    "hash": "e573eb6a34c0b72ab40cadb87cb95ce8e491332939d43b3d79a40e464100df54"
   }
  }
 },
 "nbformat": 4,
 "nbformat_minor": 2
}
